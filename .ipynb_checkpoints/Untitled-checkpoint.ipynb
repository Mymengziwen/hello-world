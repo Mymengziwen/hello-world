{
 "cells": [
  {
   "cell_type": "code",
   "execution_count": 5,
   "id": "3272e1e9-b446-44a2-90ba-10bbdbc0a97e",
   "metadata": {},
   "outputs": [
    {
     "name": "stdout",
     "output_type": "stream",
     "text": [
      "hello world\n"
     ]
    }
   ],
   "source": [
    "print('hello world')"
   ]
  },
  {
   "cell_type": "markdown",
   "id": "55968c83-2134-4e19-8f2b-2e205195a9f0",
   "metadata": {
    "tags": []
   },
   "source": [
    "# 这是一号标题"
   ]
  },
  {
   "cell_type": "markdown",
   "id": "9453bb6f-623d-4c46-8683-7824d822646c",
   "metadata": {
    "tags": []
   },
   "source": [
    "## 这是二号标题"
   ]
  },
  {
   "cell_type": "markdown",
   "id": "46c5ec8a-b67f-483d-a4e6-08300a7904e8",
   "metadata": {},
   "source": [
    "### 这是三号标题"
   ]
  },
  {
   "cell_type": "code",
   "execution_count": 6,
   "id": "ce871bf4-f2fc-4a6f-9aef-788c69cceb33",
   "metadata": {},
   "outputs": [
    {
     "name": "stdout",
     "output_type": "stream",
     "text": [
      "我是外部链接\n"
     ]
    }
   ],
   "source": [
    "print('我是外部链接')"
   ]
  },
  {
   "cell_type": "code",
   "execution_count": 12,
   "id": "9304cb5d-165d-4f1a-ab9d-6a21d5f7db67",
   "metadata": {
    "tags": []
   },
   "outputs": [
    {
     "name": "stdout",
     "output_type": "stream",
     "text": [
      "a=5\n"
     ]
    }
   ],
   "source": [
    "print('a=5')"
   ]
  }
 ],
 "metadata": {
  "kernelspec": {
   "display_name": "Python 3",
   "language": "python",
   "name": "python3"
  },
  "language_info": {
   "codemirror_mode": {
    "name": "ipython",
    "version": 3
   },
   "file_extension": ".py",
   "mimetype": "text/x-python",
   "name": "python",
   "nbconvert_exporter": "python",
   "pygments_lexer": "ipython3",
   "version": "3.8.8"
  }
 },
 "nbformat": 4,
 "nbformat_minor": 5
}
